{
 "cells": [
  {
   "cell_type": "code",
   "execution_count": 1,
   "id": "655f89fc",
   "metadata": {},
   "outputs": [
    {
     "data": {
      "text/plain": [
       "6"
      ]
     },
     "execution_count": 1,
     "metadata": {},
     "output_type": "execute_result"
    }
   ],
   "source": [
    "# ANSWER 1\n",
    "\n",
    "a = 0\n",
    "\n",
    "def b():\n",
    "    global a\n",
    "    a = c(a)\n",
    "\n",
    "def c(a):\n",
    "    return a + 2\n",
    "\n",
    "b()\n",
    "b()\n",
    "b()\n",
    "a"
   ]
  },
  {
   "cell_type": "code",
   "execution_count": 2,
   "id": "0453a84b",
   "metadata": {},
   "outputs": [],
   "source": [
    "# The value displayed when the last expression (a) is evaluated is 6. In the first step, Variable a is defined and assigned the value 0. In the second step variable a is declared as global which means its value will keep on changing everytime b variable is called. In the next step variable c is defined as value of 'a' +2.\n",
    "# The variable b is called 3 times hence the respective output after the 3rd call of b variable will be 6."
   ]
  },
  {
   "cell_type": "code",
   "execution_count": 7,
   "id": "9728c4cb",
   "metadata": {},
   "outputs": [],
   "source": [
    "# ANSWER 2\n",
    "\n",
    "def fileLength(file):                                         \n",
    "    try:                                                    \n",
    "        view = open(file, \"r\")                                     \n",
    "        text = view.read()                                               \n",
    "        print('The length of given file is '+ str(len(text)))         \n",
    "        view.close()                                                   \n",
    "    except:                                                           \n",
    "        print('File '+file+' not found')  \n"
   ]
  },
  {
   "cell_type": "code",
   "execution_count": 4,
   "id": "396867f8",
   "metadata": {},
   "outputs": [
    {
     "name": "stdout",
     "output_type": "stream",
     "text": [
      "The length of given file is461\n"
     ]
    }
   ],
   "source": [
    "fileLength('Midterm.py')"
   ]
  },
  {
   "cell_type": "code",
   "execution_count": 8,
   "id": "176e361c",
   "metadata": {},
   "outputs": [
    {
     "name": "stdout",
     "output_type": "stream",
     "text": [
      "File idterm.py not found\n"
     ]
    }
   ],
   "source": [
    "fileLength('idterm.py')"
   ]
  },
  {
   "cell_type": "code",
   "execution_count": 9,
   "id": "fb2581f4",
   "metadata": {},
   "outputs": [],
   "source": [
    "# ANSWER 3\n",
    "\n",
    "class Marsupial(object):                     \n",
    "  \n",
    "    def __init__(self):                               \n",
    "        self.list = []                     \n",
    "    def put_in_pouch(self, item):             \n",
    "        self.list.append(item)\n",
    "    def pouch_contents(self):                \n",
    "        return self.list "
   ]
  },
  {
   "cell_type": "code",
   "execution_count": 17,
   "id": "74f5bcf2",
   "metadata": {},
   "outputs": [
    {
     "data": {
      "text/plain": [
       "['doll', 'firetruck', 'kitten']"
      ]
     },
     "execution_count": 17,
     "metadata": {},
     "output_type": "execute_result"
    }
   ],
   "source": [
    "m = Marsupial()\n",
    "m.put_in_pouch('doll')\n",
    "m.put_in_pouch('firetruck')\n",
    "m.put_in_pouch('kitten')\n",
    "m.pouch_contents()"
   ]
  },
  {
   "cell_type": "code",
   "execution_count": 18,
   "id": "9be97834",
   "metadata": {},
   "outputs": [],
   "source": [
    "class Kangaroo(Marsupial):                      \n",
    "    \n",
    "    def __init__(self,x,y):                                     \n",
    "        Marsupial.__init__(self)                 \n",
    "        self.x = x                                \n",
    "        self.y = y\n",
    "                                  \n",
    "    def jump(self,dx,dy):                         \n",
    "        self.x = self.x + dx\n",
    "        self.y = self.y + dy\n",
    "        \n",
    "    def __str__(self):                           \n",
    "        return 'I am a Kangaroo located at coordinates ({},{})'.format(self.x,self.y)"
   ]
  },
  {
   "cell_type": "code",
   "execution_count": 19,
   "id": "0de326e3",
   "metadata": {},
   "outputs": [
    {
     "name": "stdout",
     "output_type": "stream",
     "text": [
      "I am a Kangaroo located at coordinates (0,0)\n"
     ]
    }
   ],
   "source": [
    "k = Kangaroo(0,0)\n",
    "print(k)"
   ]
  },
  {
   "cell_type": "code",
   "execution_count": 20,
   "id": "80a70e75",
   "metadata": {},
   "outputs": [
    {
     "data": {
      "text/plain": [
       "['doll', 'firetruck', 'kitten']"
      ]
     },
     "execution_count": 20,
     "metadata": {},
     "output_type": "execute_result"
    }
   ],
   "source": [
    "k.put_in_pouch('doll')\n",
    "k.put_in_pouch('firetruck')\n",
    "k.put_in_pouch('kitten')\n",
    "k.pouch_contents()"
   ]
  },
  {
   "cell_type": "code",
   "execution_count": 22,
   "id": "5c0db737",
   "metadata": {},
   "outputs": [
    {
     "name": "stdout",
     "output_type": "stream",
     "text": [
      "I am a Kangaroo located at coordinates (6,3)\n"
     ]
    }
   ],
   "source": [
    "k.jump(1,1)\n",
    "k.jump(1,1)\n",
    "k.jump(1,1)\n",
    "print(k)"
   ]
  },
  {
   "cell_type": "code",
   "execution_count": 23,
   "id": "f3d122cf",
   "metadata": {},
   "outputs": [],
   "source": [
    "# ANSWER 4\n",
    "\n",
    "def collatz(num):                  \n",
    "   \n",
    "    if num != 1:                   \n",
    "        if num%2!=0:                \n",
    "            print(int(num))         \n",
    "            collatz(3*num+1)       \n",
    "        \n",
    "        else:\n",
    "            print(int(num))         \n",
    "            collatz(num/2)          \n",
    "  \n",
    "    else:\n",
    "        print(int(num));"
   ]
  },
  {
   "cell_type": "code",
   "execution_count": 24,
   "id": "2166a85a",
   "metadata": {},
   "outputs": [
    {
     "name": "stdout",
     "output_type": "stream",
     "text": [
      "1\n"
     ]
    }
   ],
   "source": [
    "collatz(1)"
   ]
  },
  {
   "cell_type": "code",
   "execution_count": 25,
   "id": "848d77c5",
   "metadata": {},
   "outputs": [
    {
     "name": "stdout",
     "output_type": "stream",
     "text": [
      "10\n",
      "5\n",
      "16\n",
      "8\n",
      "4\n",
      "2\n",
      "1\n"
     ]
    }
   ],
   "source": [
    "collatz(10)"
   ]
  },
  {
   "cell_type": "code",
   "execution_count": 26,
   "id": "eb23b506",
   "metadata": {},
   "outputs": [
    {
     "name": "stdout",
     "output_type": "stream",
     "text": [
      "5\n",
      "16\n",
      "8\n",
      "4\n",
      "2\n",
      "1\n"
     ]
    }
   ],
   "source": [
    "collatz(5)"
   ]
  },
  {
   "cell_type": "code",
   "execution_count": 32,
   "id": "c67f4988",
   "metadata": {},
   "outputs": [
    {
     "name": "stdout",
     "output_type": "stream",
     "text": [
      "Enter a positive integer number -5\n",
      "Please input a positive integer\n"
     ]
    }
   ],
   "source": [
    "# ANSWER 5\n",
    "\n",
    "input1 = int(input(\"Enter a positive integer number \"))\n",
    "\n",
    "def binary(input1):\n",
    "    if input1 < 0:\n",
    "        print(\"Please input a positive integer\")\n",
    "    else:\n",
    "        return \"{0:b}\".format(input1)\n",
    "        \n",
    "binary(input1)"
   ]
  },
  {
   "cell_type": "code",
   "execution_count": 33,
   "id": "c2ffd9aa",
   "metadata": {},
   "outputs": [],
   "source": [
    "# ANSWER 6\n",
    "\n",
    "from html.parser import HTMLParser                               \n",
    "class HeadingParser(HTMLParser):                      \n",
    "    def __init__(self):                                                 \n",
    "        HTMLParser.__init__(self)                           \n",
    "        self.head =0                                                          \n",
    "        self.intend = \"\"\n",
    "    def handle_starttag(self, tag, attributes):              \n",
    "        if tag[:-1]=='h':\n",
    "            self.head = 'type'\n",
    "    def handle_data(self, data):                             \n",
    "        if self.head==\"type\":\n",
    "            print(self.intend+ data)                         \n",
    "            self.intend+= \"    \"\n",
    "            self.head=0 "
   ]
  },
  {
   "cell_type": "code",
   "execution_count": 34,
   "id": "fc9ccd92",
   "metadata": {},
   "outputs": [
    {
     "name": "stdout",
     "output_type": "stream",
     "text": [
      "W3C Mission\n",
      "    Principles\n"
     ]
    }
   ],
   "source": [
    "infile = open('w3c.html')\n",
    "content = infile.read()\n",
    "infile.close()\n",
    "hp = HeadingParser()\n",
    "hp.feed(content)"
   ]
  },
  {
   "cell_type": "code",
   "execution_count": 35,
   "id": "0a74ce3e",
   "metadata": {},
   "outputs": [],
   "source": [
    "# QUESTION 7\n",
    "\n",
    "from html.parser import HTMLParser    \n",
    "from urllib.request import urlopen\n",
    "from urllib.parse import urljoin\n",
    "\n",
    "class collector(HTMLParser):\n",
    "    \n",
    "\n",
    "    def __init__(self, url):\n",
    "      \n",
    "        HTMLParser.__init__(self)\n",
    "        self.url = url\n",
    "        self.links = []\n",
    "\n",
    "\n",
    "    def append(self):\n",
    "        \n",
    "        return self.links\n",
    "\n",
    "\n",
    "    def handle_starttag(self, url_tag, attributes):\n",
    "        for i in attributes:\n",
    "            b = urljoin(self.url, a[1])\n",
    "            if b[:4] == 'http': \n",
    "                self.url_links.append(b)\n",
    "                i = 0\n",
    "def webdir(url, depth, i):\n",
    "   \n",
    "\n",
    "    depth = depth - 1    \n",
    "    print(i*'  ', url)         \n",
    "\n",
    "    objective = urlopen(url).read().decode()\n",
    "    collection = urlcollector(url)\n",
    "    collection.feed(objective)\n",
    "    urls = collection.append() \n",
    " \n",
    "    links = urls\n",
    "    i= i + 4\n",
    "\n",
    "\n",
    "    for link in links:\n",
    "        if depth < 0 or i < 0:\n",
    "            return 1\n",
    "        else:\n",
    "            webdir(link, depth, i)"
   ]
  },
  {
   "cell_type": "code",
   "execution_count": 36,
   "id": "2114d6cc",
   "metadata": {},
   "outputs": [
    {
     "name": "stdout",
     "output_type": "stream",
     "text": [
      " http://reed.cs.depaul.edu/lperkovic/test1.html\n"
     ]
    },
    {
     "ename": "NameError",
     "evalue": "name 'urlcollector' is not defined",
     "output_type": "error",
     "traceback": [
      "\u001b[1;31m---------------------------------------------------------------------------\u001b[0m",
      "\u001b[1;31mNameError\u001b[0m                                 Traceback (most recent call last)",
      "Input \u001b[1;32mIn [36]\u001b[0m, in \u001b[0;36m<cell line: 1>\u001b[1;34m()\u001b[0m\n\u001b[1;32m----> 1\u001b[0m \u001b[43mwebdir\u001b[49m\u001b[43m(\u001b[49m\u001b[38;5;124;43m'\u001b[39;49m\u001b[38;5;124;43mhttp://reed.cs.depaul.edu/lperkovic/test1.html\u001b[39;49m\u001b[38;5;124;43m'\u001b[39;49m\u001b[43m,\u001b[49m\u001b[43m \u001b[49m\u001b[38;5;241;43m2\u001b[39;49m\u001b[43m,\u001b[49m\u001b[43m \u001b[49m\u001b[38;5;241;43m0\u001b[39;49m\u001b[43m)\u001b[49m\n",
      "Input \u001b[1;32mIn [35]\u001b[0m, in \u001b[0;36mwebdir\u001b[1;34m(url, depth, i)\u001b[0m\n\u001b[0;32m     32\u001b[0m \u001b[38;5;28mprint\u001b[39m(i\u001b[38;5;241m*\u001b[39m\u001b[38;5;124m'\u001b[39m\u001b[38;5;124m  \u001b[39m\u001b[38;5;124m'\u001b[39m, url)         \n\u001b[0;32m     34\u001b[0m objective \u001b[38;5;241m=\u001b[39m urlopen(url)\u001b[38;5;241m.\u001b[39mread()\u001b[38;5;241m.\u001b[39mdecode()\n\u001b[1;32m---> 35\u001b[0m collection \u001b[38;5;241m=\u001b[39m \u001b[43murlcollector\u001b[49m(url)\n\u001b[0;32m     36\u001b[0m collection\u001b[38;5;241m.\u001b[39mfeed(objective)\n\u001b[0;32m     37\u001b[0m urls \u001b[38;5;241m=\u001b[39m collection\u001b[38;5;241m.\u001b[39mappend() \n",
      "\u001b[1;31mNameError\u001b[0m: name 'urlcollector' is not defined"
     ]
    }
   ],
   "source": [
    "webdir('http://reed.cs.depaul.edu/lperkovic/test1.html', 0, 0)"
   ]
  },
  {
   "cell_type": "code",
   "execution_count": 37,
   "id": "11306d84",
   "metadata": {},
   "outputs": [
    {
     "ename": "OperationalError",
     "evalue": "table database_d already exists",
     "output_type": "error",
     "traceback": [
      "\u001b[1;31m---------------------------------------------------------------------------\u001b[0m",
      "\u001b[1;31mOperationalError\u001b[0m                          Traceback (most recent call last)",
      "Input \u001b[1;32mIn [37]\u001b[0m, in \u001b[0;36m<cell line: 6>\u001b[1;34m()\u001b[0m\n\u001b[0;32m      4\u001b[0m con \u001b[38;5;241m=\u001b[39m sqlite3\u001b[38;5;241m.\u001b[39mconnect(\u001b[38;5;124m'\u001b[39m\u001b[38;5;124mdatabase_db\u001b[39m\u001b[38;5;124m'\u001b[39m)\n\u001b[0;32m      5\u001b[0m cur \u001b[38;5;241m=\u001b[39m con\u001b[38;5;241m.\u001b[39mcursor()\n\u001b[1;32m----> 6\u001b[0m \u001b[43mcur\u001b[49m\u001b[38;5;241;43m.\u001b[39;49m\u001b[43mexecute\u001b[49m\u001b[43m(\u001b[49m\u001b[38;5;124;43m\"\u001b[39;49m\u001b[38;5;124;43mCREATE TABLE database_d (City text, Country text, Season text, Temperature dec, Rainfall dec)\u001b[39;49m\u001b[38;5;124;43m\"\u001b[39;49m\u001b[43m)\u001b[49m\n\u001b[0;32m      7\u001b[0m cur\u001b[38;5;241m.\u001b[39mexecute(\u001b[38;5;124m\"\u001b[39m\u001b[38;5;124mINSERT INTO database_d VALUES (\u001b[39m\u001b[38;5;124m'\u001b[39m\u001b[38;5;124mMumbai\u001b[39m\u001b[38;5;124m'\u001b[39m\u001b[38;5;124m, \u001b[39m\u001b[38;5;124m'\u001b[39m\u001b[38;5;124mIndia\u001b[39m\u001b[38;5;124m'\u001b[39m\u001b[38;5;124m, \u001b[39m\u001b[38;5;124m'\u001b[39m\u001b[38;5;124mWinter\u001b[39m\u001b[38;5;124m'\u001b[39m\u001b[38;5;124m, 24.8, 5.9)\u001b[39m\u001b[38;5;124m\"\u001b[39m)\n\u001b[0;32m      8\u001b[0m cur\u001b[38;5;241m.\u001b[39mexecute(\u001b[38;5;124m\"\u001b[39m\u001b[38;5;124mINSERT INTO database_d VALUES (\u001b[39m\u001b[38;5;124m'\u001b[39m\u001b[38;5;124mMumbai\u001b[39m\u001b[38;5;124m'\u001b[39m\u001b[38;5;124m, \u001b[39m\u001b[38;5;124m'\u001b[39m\u001b[38;5;124mIndia\u001b[39m\u001b[38;5;124m'\u001b[39m\u001b[38;5;124m, \u001b[39m\u001b[38;5;124m'\u001b[39m\u001b[38;5;124mSpring\u001b[39m\u001b[38;5;124m'\u001b[39m\u001b[38;5;124m, 28.4, 16.2)\u001b[39m\u001b[38;5;124m\"\u001b[39m)\n",
      "\u001b[1;31mOperationalError\u001b[0m: table database_d already exists"
     ]
    }
   ],
   "source": [
    "# QUESTION 8\n",
    "\n",
    "import sqlite3\n",
    "var1 = sqlite3.connect('database_db')\n",
    "var2 = var1.cursor()\n",
    "var2.execute(\"CREATE DATABASE TABLE database_d (City, Country, Season, Temperature, Rainfall)\")\n",
    "var2.execute(\"INSERT INTO TABLE database_d VALUES ('Mumbai', 'India', 'Winter', 24.8, 5.9)\")\n",
    "var2.execute(\"INSERT INTO TABLE database_d VALUES ('Mumbai', 'India', 'Spring', 28.4, 16.2)\")\n",
    "var2.execute(\"INSERT INTO TABLE database_d VALUES ('Mumbai', 'India', 'Summer', 27.9, 1549.4)\")\n",
    "var2.execute(\"INSERT INTO TABLE database_d VALUES ('Mumbai', 'India', 'Fall', 27.6, 346.0)\")\n",
    "var2.execute(\"INSERT INTO TABLE database_d VALUES ('London', 'United Kingdom', 'Winter', 4.2, 207.7)\")\n",
    "var2.execute(\"INSERT INTO TABLE database_d VALUES ('London', 'United Kingdom', 'Spring', 8.3, 169.6)\")\n",
    "var2.execute(\"INSERT INTO TABLE database_d VALUES ('London', 'United Kingdom', 'Summer', 15.7, 157.0)\")\n",
    "var2.execute(\"INSERT INTO TABLE database_d VALUES ('London', 'United Kingdom', 'Fall', 10.4, 218.5)\")\n",
    "var2.execute(\"INSERT INTO TABLE database_d VALUES ('Cairo', 'Egypt', 'Winter', 13.6, 16.5)\")\n",
    "var2.execute(\"INSERT INTO TABLE database_d VALUES ('Cairo', 'Egypt', 'Spring', 20.7, 6.5)\")\n",
    "var2.execute(\"INSERT INTO TABLE database_d VALUES ('Cairo', 'Egypt', 'Summer', 27.7, 0.1)\")\n",
    "var2.execute(\"INSERT INTO TABLE database_d VALUES ('Cairo', 'Egypt', 'Fall', 22.2, 4.5)\")\n",
    "var1.commit()\n",
    "var1.close()"
   ]
  },
  {
   "cell_type": "code",
   "execution_count": 38,
   "id": "3318b8d1",
   "metadata": {},
   "outputs": [
    {
     "name": "stdout",
     "output_type": "stream",
     "text": [
      "(24.8,)\n",
      "(28.4,)\n",
      "(27.9,)\n",
      "(27.6,)\n",
      "(4.2,)\n",
      "(8.3,)\n",
      "(15.7,)\n",
      "(10.4,)\n",
      "(13.6,)\n",
      "(20.7,)\n",
      "(27.7,)\n",
      "(22.2,)\n",
      "('Mumbai',)\n",
      "('London',)\n",
      "('Cairo',)\n",
      "('Mumbai', 'India', 'Fall', 27.6, 346)\n",
      "('London', 'United Kingdom', 'Fall', 10.4, 218.5)\n",
      "('Cairo', 'Egypt', 'Fall', 22.2, 4.5)\n",
      "('Mumbai', 'India', 'Winter', 24.8, 5.9)\n",
      "('Mumbai', 'India', 'Spring', 28.4, 16.2)\n",
      "('Mumbai', 'India', 'Summer', 27.9, 1549.4)\n",
      "('Mumbai', 'India', 'Fall', 27.6, 346)\n",
      "('Mumbai', 'India')\n",
      "('Cairo', 'Egypt')\n",
      "('Mumbai', 'India', 'Fall')\n",
      "('London', 'United Kingdom', 'Winter')\n",
      "('London', 'United Kingdom', 'Fall')\n",
      "[(27.6,)]\n",
      "(569.0, 'Fall')\n",
      "(192.29999999999998, 'Spring')\n",
      "(1706.5, 'Summer')\n",
      "(230.1, 'Winter')\n"
     ]
    }
   ],
   "source": [
    "import sqlite3\n",
    "var1 = sqlite3.connect('database_db')\n",
    "var2 = var1.cursor()\n",
    "var2.execute('SELECT Temperature FROM database_d ')\n",
    "for record in var2:\n",
    "    print(record)\n",
    "var2.execute('SELECT DISTINCT City FROM database_d ')\n",
    "for record in var2:\n",
    "    print(record)\n",
    "var2.execute('SELECT * FROM database_d  where Season=\"Fall\"')\n",
    "for record in var2:\n",
    "    print(record)\n",
    "var2.execute('SELECT * FROM database_d  where Country=\"India\"')\n",
    "for record in var2:\n",
    "    print(record)\n",
    "var2.execute('SELECT City,Country FROM database_d  where (Season =\"Fall\") AND (temperature>20) ORDER BY Temperature DESC')\n",
    "for record in var2:\n",
    "    print(record)\n",
    "var2.execute('SELECT City,Country,Season FROM database_d  where (rainfall>200) AND (rainfall<400)')\n",
    "for record in var2:\n",
    "    print(record)\n",
    "var2.execute('SELECT SUM(Rainfall) FROM database_d  where City=\"Cairo\"')\n",
    "Total_annual_rainfall=var.fetchall()\n",
    "print(Total_annual_rainfall)\n",
    "var2.execute('SELECT SUM(Rainfall),Season FROM database_d  differentiated by each season')\n",
    "for record in var2:\n",
    "    print(record)"
   ]
  },
  {
   "cell_type": "code",
   "execution_count": 39,
   "id": "c58ed18d",
   "metadata": {},
   "outputs": [
    {
     "data": {
      "text/plain": [
       "['THE', 'QUICK', 'BROWN', 'FOX', 'JUMPS', 'OVER', 'THE', 'LAZY', 'DOG']"
      ]
     },
     "execution_count": 39,
     "metadata": {},
     "output_type": "execute_result"
    }
   ],
   "source": [
    "#  QUESTION 9\n",
    "\n",
    "words = ['The', 'quick', 'brown', 'fox', 'jumps', 'over', 'the', 'lazy', 'dog']\n",
    "[a.upper() for a in words]"
   ]
  },
  {
   "cell_type": "code",
   "execution_count": 40,
   "id": "de8f594c",
   "metadata": {},
   "outputs": [
    {
     "data": {
      "text/plain": [
       "['the', 'quick', 'brown', 'fox', 'jumps', 'over', 'the', 'lazy', 'dog']"
      ]
     },
     "execution_count": 40,
     "metadata": {},
     "output_type": "execute_result"
    }
   ],
   "source": [
    "[a.lower() for a in words]"
   ]
  },
  {
   "cell_type": "code",
   "execution_count": 41,
   "id": "81b6832e",
   "metadata": {},
   "outputs": [
    {
     "data": {
      "text/plain": [
       "[3, 5, 5, 3, 5, 4, 3, 4, 3]"
      ]
     },
     "execution_count": 41,
     "metadata": {},
     "output_type": "execute_result"
    }
   ],
   "source": [
    "[len(a) for a in words]"
   ]
  },
  {
   "cell_type": "code",
   "execution_count": 42,
   "id": "6d64c03e",
   "metadata": {},
   "outputs": [
    {
     "data": {
      "text/plain": [
       "[['THE', 'the', 3],\n",
       " ['QUICK', 'quick', 5],\n",
       " ['BROWN', 'brown', 5],\n",
       " ['FOX', 'fox', 3],\n",
       " ['JUMPS', 'jumps', 5],\n",
       " ['OVER', 'over', 4],\n",
       " ['THE', 'the', 3],\n",
       " ['LAZY', 'lazy', 4],\n",
       " ['DOG', 'dog', 3]]"
      ]
     },
     "execution_count": 42,
     "metadata": {},
     "output_type": "execute_result"
    }
   ],
   "source": [
    "[[a.upper(),a.lower(),len(a)] for a in words]"
   ]
  },
  {
   "cell_type": "code",
   "execution_count": 43,
   "id": "cbaa3c15",
   "metadata": {},
   "outputs": [
    {
     "data": {
      "text/plain": [
       "['quick', 'brown', 'jumps', 'over', 'lazy']"
      ]
     },
     "execution_count": 43,
     "metadata": {},
     "output_type": "execute_result"
    }
   ],
   "source": [
    "[a for a in words if len(a) >= 4]"
   ]
  },
  {
   "cell_type": "code",
   "execution_count": null,
   "id": "fef0225b",
   "metadata": {},
   "outputs": [],
   "source": []
  }
 ],
 "metadata": {
  "kernelspec": {
   "display_name": "Python 3 (ipykernel)",
   "language": "python",
   "name": "python3"
  },
  "language_info": {
   "codemirror_mode": {
    "name": "ipython",
    "version": 3
   },
   "file_extension": ".py",
   "mimetype": "text/x-python",
   "name": "python",
   "nbconvert_exporter": "python",
   "pygments_lexer": "ipython3",
   "version": "3.9.12"
  }
 },
 "nbformat": 4,
 "nbformat_minor": 5
}
